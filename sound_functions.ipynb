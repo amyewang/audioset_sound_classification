{
 "cells": [
  {
   "cell_type": "code",
   "execution_count": 1,
   "id": "08de6135",
   "metadata": {},
   "outputs": [],
   "source": [
    "import sounddevice as sd\n",
    "import numpy as np\n",
    "from scipy.io.wavfile import write\n",
    "import time\n",
    "import librosa\n",
    "from sklearn.preprocessing import MinMaxScaler\n",
    "from keras.models import load_model"
   ]
  },
  {
   "cell_type": "code",
   "execution_count": 2,
   "id": "2de69567",
   "metadata": {},
   "outputs": [],
   "source": [
    "classes = ['screaming'\n",
    "           #, 'whispering'\n",
    "           #, 'music'\n",
    "           #, 'water'\n",
    "           #, 'wind'\n",
    "           #, 'vehicle'\n",
    "           #, 'tools'\n",
    "           , 'Subway, metro, underground'\n",
    "           #, 'alarm'\n",
    "           #, 'silence'\n",
    "           #, 'animal'\n",
    "           , 'speech'\n",
    "           #, 'television'\n",
    "           , 'Outside, rural or natural'\n",
    "           , 'Traffic noise, roadway noise'\n",
    "           , 'Inside, small room'\n",
    "           #, 'radio'\n",
    "           , 'Outside, urban or manmade'\n",
    "           , 'singing'\n",
    "           #, 'Inside, large room or hall'\n",
    "          ]"
   ]
  },
  {
   "cell_type": "code",
   "execution_count": 3,
   "id": "ff16d142",
   "metadata": {},
   "outputs": [],
   "source": [
    "def record_sound():\n",
    "    fs = 44000  # Sample rate\n",
    "    seconds = 2  # Duration of recording\n",
    "\n",
    "    # Create countdown for t seconds to prep to record\n",
    "    print('get ready to record: ')\n",
    "    t = 2\n",
    "    while t:\n",
    "        mins, secs = divmod(t, 60)\n",
    "        timer = '{:02d}:{:02d}'.format(mins, secs)\n",
    "        print(timer, end=\"\\r\")\n",
    "        time.sleep(1)\n",
    "        t -= 1\n",
    "        \n",
    "    # Record sound\n",
    "    print('record now for 2 seconds!')\n",
    "    myrecording = sd.rec(int(seconds * fs), samplerate=fs, channels=1)\n",
    "    sd.wait()  # Wait until recording is finished\n",
    "    print('recording done.')\n",
    "    \n",
    "    #write('output.wav', fs, myrecording)  # dont know where this goes\n",
    "    print('Playing recording back: ')\n",
    "    sd.play(myrecording, fs)\n",
    "    return myrecording"
   ]
  },
  {
   "cell_type": "code",
   "execution_count": 13,
   "id": "ac1f99ad",
   "metadata": {},
   "outputs": [],
   "source": [
    "def preprocess_sound(myrecording):\n",
    "    # Flatten\n",
    "    y = myrecording.flatten()\n",
    "    # Grab melspectrogram\n",
    "    mel_feat = librosa.feature.melspectrogram(y,sr=44000)\n",
    "    # Convert a power spectrogram (amplitude squared) to decibel (dB) units\n",
    "    power = librosa.power_to_db(mel_feat)\n",
    "    power = power.reshape(-1,1)\n",
    "    # Grab 1 part of dB units\n",
    "    melspectrogram_feat = power[:11776]\n",
    "    melspectrogram_feat\n",
    "    # Scale input between -1 and 1 \n",
    "    scaler = MinMaxScaler(feature_range=(0, 1))\n",
    "    melspectrogram_feat = np.array(melspectrogram_feat).reshape(-1, 1)\n",
    "    #print(melspectrogram_feat)\n",
    "    scaler.fit(melspectrogram_feat)\n",
    "    norm_mel = scaler.transform(melspectrogram_feat)\n",
    "    \n",
    "    # Reshape \n",
    "    feat = np.reshape(norm_mel, (1, 128, -1,1))\n",
    "\n",
    "    return feat"
   ]
  },
  {
   "cell_type": "code",
   "execution_count": 22,
   "id": "723554ea",
   "metadata": {},
   "outputs": [],
   "source": [
    "def predict_class(feat): \n",
    "    # Predict class probabilities\n",
    "    model = load_model('my_model_opt.h5')\n",
    "    y_prob = model.predict(feat)\n",
    "    # Grab highest confidence class\n",
    "    y_classes = y_prob.argmax(axis=-1)\n",
    "    print(\"Sound prediction: \", classes[y_classes[0]])\n",
    "    return classes[y_classes[0]]"
   ]
  },
  {
   "cell_type": "code",
   "execution_count": 39,
   "id": "9a1e3ada",
   "metadata": {},
   "outputs": [
    {
     "name": "stdout",
     "output_type": "stream",
     "text": [
      "get ready to record: \n",
      "record now for 2 seconds!\n",
      "recording done.\n",
      "Playing recording back: \n",
      "Sound prediction:  Inside, small room\n",
      "Inside, small room\n"
     ]
    }
   ],
   "source": [
    "myrecording = record_sound()\n",
    "feat = preprocess_sound(myrecording)\n",
    "pred = predict_class(feat)\n",
    "print(pred)"
   ]
  },
  {
   "cell_type": "code",
   "execution_count": 40,
   "id": "d0ec3e74",
   "metadata": {},
   "outputs": [
    {
     "data": {
      "text/plain": [
       "array([[-0.00996824],\n",
       "       [-0.00922157],\n",
       "       [-0.01826992],\n",
       "       ...,\n",
       "       [-0.01083764],\n",
       "       [-0.00964471],\n",
       "       [-0.00822937]], dtype=float32)"
      ]
     },
     "execution_count": 40,
     "metadata": {},
     "output_type": "execute_result"
    }
   ],
   "source": [
    "myrecording"
   ]
  },
  {
   "cell_type": "code",
   "execution_count": null,
   "id": "058a23b8",
   "metadata": {},
   "outputs": [],
   "source": []
  }
 ],
 "metadata": {
  "kernelspec": {
   "display_name": "tf",
   "language": "python",
   "name": "tf"
  },
  "language_info": {
   "codemirror_mode": {
    "name": "ipython",
    "version": 3
   },
   "file_extension": ".py",
   "mimetype": "text/x-python",
   "name": "python",
   "nbconvert_exporter": "python",
   "pygments_lexer": "ipython3",
   "version": "3.7.11"
  }
 },
 "nbformat": 4,
 "nbformat_minor": 5
}
